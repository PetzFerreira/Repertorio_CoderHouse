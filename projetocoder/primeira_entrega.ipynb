{
 "cells": [
  {
   "cell_type": "markdown",
   "metadata": {},
   "source": [
    "Imports\n"
   ]
  },
  {
   "cell_type": "code",
   "execution_count": 1,
   "metadata": {},
   "outputs": [],
   "source": [
    "import pandas as pd\n",
    "import requests\n",
    "from plyer import notification\n",
    "from datetime import datetime"
   ]
  },
  {
   "cell_type": "markdown",
   "metadata": {},
   "source": [
    "Notificação"
   ]
  },
  {
   "cell_type": "code",
   "execution_count": 1,
   "metadata": {},
   "outputs": [],
   "source": [
    "from plyer import notification\n",
    "\n",
    "def alert(tipo, base, message):\n",
    "    alerta = 'Alerta'\n",
    "    match tipo:\n",
    "        case 1:\n",
    "            alerta = 'erro'\n",
    "    try:\n",
    "        notification.notify(title= f'{alerta.upper()}', message = f'{alerta.capitalize()} na base {base}, {alerta} {message}')  # type: ignore\n",
    "\n",
    "    except Exception as e:\n",
    "        print(f'Erro {e}')"
   ]
  },
  {
   "cell_type": "markdown",
   "metadata": {},
   "source": [
    "Função DataFrame"
   ]
  },
  {
   "cell_type": "code",
   "execution_count": null,
   "metadata": {},
   "outputs": [],
   "source": [
    "def setDF(data):\n",
    "    names = [pokemon['name'] for pokemon in data]\n",
    "    urls = [pokemon['url'] for pokemon in data]\n",
    "    \n",
    "    for urls in urls: \n",
    "        response = requests.get(urls).json()\n",
    "        sprite = response['sprites']['front_default']\n",
    "        \n",
    "        \n",
    "    \n",
    "    \n",
    "    pokemon = pd.DataFrame({\"Name\": names})  "
   ]
  },
  {
   "cell_type": "markdown",
   "metadata": {},
   "source": [
    "URL API"
   ]
  },
  {
   "cell_type": "code",
   "execution_count": null,
   "metadata": {},
   "outputs": [],
   "source": [
    "url = 'https://pokeapi.co/api/v2/pokemon?offset=0&limit=151'\n",
    "\n",
    "response = requests.get(url)"
   ]
  },
  {
   "cell_type": "markdown",
   "metadata": {},
   "source": [
    "Error Response"
   ]
  },
  {
   "cell_type": "code",
   "execution_count": null,
   "metadata": {},
   "outputs": [],
   "source": [
    "if response.status_code == 200:    \n",
    "    data_json = response.json()   \n",
    "     \n",
    "    if 'results' in data_json:\n",
    "        setDF(data_json['results'])\n",
    "    \n",
    "    else:\n",
    "        alert(1, \"API\", \"No results\")\n",
    "        \n",
    "else:\n",
    "    alert(1, \"API\", response.status_code)"
   ]
  }
 ],
 "metadata": {
  "kernelspec": {
   "display_name": "projetocoder",
   "language": "python",
   "name": "python3"
  },
  "language_info": {
   "codemirror_mode": {
    "name": "ipython",
    "version": 3
   },
   "file_extension": ".py",
   "mimetype": "text/x-python",
   "name": "python",
   "nbconvert_exporter": "python",
   "pygments_lexer": "ipython3",
   "version": "3.12.3"
  }
 },
 "nbformat": 4,
 "nbformat_minor": 2
}
