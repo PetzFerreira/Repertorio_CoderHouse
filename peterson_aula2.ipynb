{
 "cells": [
  {
   "cell_type": "markdown",
   "metadata": {},
   "source": []
  },
  {
   "cell_type": "markdown",
   "metadata": {},
   "source": [
    "''' 1. Crie uma variável chama saldo e atribua o valor de 950,60. Em seguida, pergunte ao usuário quanto dinheiro ele deseja sacar e armazene a resposta em uma variável\n",
    "chamada saque. Subtraia o valor de saque do valor de saldo e imprima a mensagem \"Seu novo saldo é {saldo}\"'''\n"
   ]
  },
  {
   "cell_type": "code",
   "execution_count": null,
   "metadata": {},
   "outputs": [],
   "source": [
    "import os\n",
    "os.system('cls')\n",
    "\n",
    "saldo = 956.60\n",
    "saque = 0\n",
    "\n",
    "saque = float(input('Olá,\\nQual o valor deseja sacar?:\\n\\n'))\n",
    "\n",
    "saldo = saldo - saque\n",
    "\n",
    "print(f'\\nSeu novo saldo é {saldo:.2f}.\\n')"
   ]
  },
  {
   "cell_type": "markdown",
   "metadata": {},
   "source": [
    "'''2. Faça um programa que crie uma lista com 5 frutas e permita que o usuário digite o nome de uma fruta. Se for uma fruta repetida deverá ser desconsiderada.'''\n"
   ]
  },
  {
   "cell_type": "code",
   "execution_count": null,
   "metadata": {},
   "outputs": [],
   "source": [
    "import os\n",
    "os.system('cls')\n",
    "\n",
    "listaDeFrutas = ['pera','banana', 'uva', 'kiwi', 'goiaba']\n",
    "\n",
    "frutaDoUsuario = input(str('\\nEscolha uma fruta e digite o nome dela para conferir se ela já está no cesto: \\n\\n'))\n",
    "\n",
    "\n",
    "if (frutaDoUsuario in listaDeFrutas):\n",
    "    print(f'A fruta {frutaDoUsuario} já está no cesto!')\n",
    "else:\n",
    "    opcaoDoUsuario = int(input(f'A fruta {frutaDoUsuario} ainda não está no cesto! Se deseja adicioná-la no cesto, digite 1, se não, digite 2.'))\n",
    "    if (opcaoDoUsuario == 1):\n",
    "        listaDeFrutas.append(frutaDoUsuario)\n",
    "        print('Agora a fruta escolhida agora também está no cesto!')\n",
    "        print(listaDeFrutas)\n",
    "    elif (opcaoDoUsuario ==2):\n",
    "        print('Ok! As frutas no cesto continuam as mesmas!')\n",
    "    else:\n",
    "        print('Opção inválida!.Digite apenas 1 para adicionar a fruta ao cesto ou 2 para desconsiderar a ação!')   "
   ]
  },
  {
   "cell_type": "markdown",
   "metadata": {},
   "source": [
    "'''3. Faça um programa que peça ao usuário para digitar uma frase e substitua todas as vogais por asteriscos(*)'''"
   ]
  },
  {
   "cell_type": "code",
   "execution_count": null,
   "metadata": {},
   "outputs": [],
   "source": [
    "import os\n",
    "os.system('cls')\n",
    "\n",
    "\n",
    "def trocarPorVogais(string):\n",
    "    \n",
    "    vogais = ['a', 'e', 'i', 'o', 'u']\n",
    "    for vogal in vogais:\n",
    "        string = string.replace(vogal, '*')\n",
    "    return string\n",
    "\n",
    "textodousuario = input('\\nDigite uma frase qualquer: \\n')\n",
    "textodousuario = trocarPorVogais(textodousuario)\n",
    "\n",
    "print (f'\\n{textodousuario}\\n')"
   ]
  }
 ],
 "metadata": {
  "language_info": {
   "name": "python"
  }
 },
 "nbformat": 4,
 "nbformat_minor": 2
}
