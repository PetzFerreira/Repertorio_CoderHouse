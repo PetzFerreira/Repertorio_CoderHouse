{
 "cells": [
  {
   "cell_type": "markdown",
   "metadata": {},
   "source": [
    "1. Escreva um programa que receba um número inteiro e exiba se ele é par ou ímpar."
   ]
  },
  {
   "cell_type": "code",
   "execution_count": null,
   "metadata": {},
   "outputs": [],
   "source": [
    "import os\n",
    "os.system('cls') #limpa a tela\n",
    "\n",
    "numerodigitado = input('\\nDigite um número inteiro qualquer para saber se ele é par ou ímpar: \\n\\n')\n",
    "\n",
    "try: #tenta realizar a linha abaixo, conferindo se o valor digitado é inteiro, se não for, cai no except; caso seja, continua e entra no If\n",
    "    numerodigitado = int(numerodigitado) #converte o valor digitado para um número inteiro caso seja possível\n",
    "    if (numerodigitado %2 == 0): #divie o valor digitado por 2; se for par, qualquer número digitado por 2 terá, após a vírgula, apenas zeros. Se ímpar, terá \"sobra\" após a vírgula\n",
    "        print(f'\\nO número {numerodigitado} é um número par!\\n')\n",
    "    else:\n",
    "        print(f'\\nO número {numerodigitado} é um número ímpar!\\n')\n",
    "except:\n",
    "    print(f'\\n {numerodigitado} não é um número inteiro! Digite apenas números inteiros!\\n')"
   ]
  },
  {
   "cell_type": "markdown",
   "metadata": {},
   "source": [
    "2. Escreva um programa em Python que solicita  ao usuário uma frase e, em seguida, exibe cada palavra e seu número de caracteres."
   ]
  },
  {
   "cell_type": "code",
   "execution_count": null,
   "metadata": {},
   "outputs": [],
   "source": [
    "import os\n",
    "os.system('cls') #limpa a tela\n",
    "\n",
    "frasedigitada = input('\\nDigite uma frase qualquer: \\n\\n')\n",
    "\n",
    "palavras = frasedigitada.split() #transforma a frase uma lista, onde cada elemento da frase dividido com espaço ocupa um index da lista\n",
    "\n",
    "for palavra in palavras: # para cada elemento da lista, imprime o elemento e depois quantas letras possui\n",
    "    print(f'\\n{palavra}\\b')\n",
    "    print (len(f'\\n{palavra}\\n'))"
   ]
  },
  {
   "cell_type": "markdown",
   "metadata": {},
   "source": [
    "3. Crie um Programa em Python que solicita  ao usuário uma senha numérica de 4 dígitos. O programa deve repetir essa solicitação até que o usuário informe  a senha correta (1234)."
   ]
  },
  {
   "cell_type": "code",
   "execution_count": null,
   "metadata": {},
   "outputs": [],
   "source": [
    "import os\n",
    "os.system ('cls')\n",
    "\n",
    "\n",
    "senhadousuario = 1234 #senha solicitada, fixa\n",
    "senhasolicitada = 0000 \n",
    "\n",
    "while (senhasolicitada != senhadousuario): #enquanto as senhas forem diferentes, permanece no laço\n",
    "    senhasolicitada = int(input('Digite a senha de 4 dígitos: \\n\\n')) #solicita que o usuário digite um valor, sendo 4 número, apenas inteiros\n",
    "    if (senhasolicitada != senhadousuario): # se a senha digitada for incorreta, avisa o usuário e solicita novamente\n",
    "        print('\\nSenha Incorreta!\\n')\n",
    "    \n",
    "    else: \n",
    "        os.system ('cls')\n",
    "        print('Senha correta!\\nFim de Programa!\\n') #se for igual, digita que é correta\n",
    "        "
   ]
  },
  {
   "cell_type": "markdown",
   "metadata": {},
   "source": [
    "4. Escreva um programa que dado um valor n calcula o fatorial de n."
   ]
  },
  {
   "cell_type": "code",
   "execution_count": null,
   "metadata": {},
   "outputs": [],
   "source": [
    "from os import system as sy \n",
    "sy('cls') #Limpa a tela\n",
    "\n",
    "numerofornecido = int(input('\\nDigite um número qualquer para calcular seu fatorial:\\n\\n ')) #Solicita um número inteiro como entrada\n",
    "fatorial = 1\n",
    "resultadofatorial = 1\n",
    "while fatorial <= numerofornecido: #Até o fatorial ser o mesmo número que o fornecido, ficará no lopping \n",
    "    resultadofatorial = fatorial*(resultadofatorial) # fotorial vezes o resultado da multiplicação anterior, após acrescentar 1 ao fatorial na linha seguinte (1*2, 2*3, 6*4...)\n",
    "    fatorial = fatorial +1\n",
    "\n",
    "print (resultadofatorial)\n",
    "    "
   ]
  },
  {
   "cell_type": "markdown",
   "metadata": {},
   "source": [
    "5. Crie um dicionário  com os dados de tabela ao lado , crie um loop para exibir os valores."
   ]
  },
  {
   "cell_type": "code",
   "execution_count": null,
   "metadata": {},
   "outputs": [],
   "source": [
    "import os\n",
    "os.system('cls') #limpa a tela\n",
    "\n",
    "chavedemeses = {'janeiro':232, 'feveiro':321, 'junho':589, 'julho':547} # dicinário com meses e seus valores de quantidade\n",
    "\n",
    "entradausuario =input('Digite o mês que deseja saber a quantidade ou 0 para finalizar o programa:\\n ')\n",
    "\n",
    "while (entradausuario != 0): #enquanto a entrada do usuário não for \"O\", realiza a função. Ao digitar 0, o programa finaliza\n",
    "    if (entradausuario.lower() in chavedemeses): #converte a string do usuario em letras pequenas para evitar erros; se a entrada se encontrar no dicionário, imprimi o mês e a quantidade\n",
    "        print(f'\\nNo mês de {entradausuario} a quantidade foi de {chavedemeses[entradausuario]}\\n')\n",
    "    else: # se não, imprimi que não há dados a serem apresentados.\n",
    "        print(f'\\nNão há dados para o mês solicitado.\\n')\n",
    "    entradausuario =input('Digite o mês que deseja saber a quantidade ou 0 para finalizar o programa: \\n')"
   ]
  },
  {
   "cell_type": "markdown",
   "metadata": {},
   "source": [
    "6. Crie uma função lambda chamada eh_multiplo_dez() que retorna True se um determinado número é múltiplo de 10 e False caso contrário."
   ]
  },
  {
   "cell_type": "code",
   "execution_count": null,
   "metadata": {},
   "outputs": [],
   "source": [
    "from os import system as sy \n",
    "sy('cls') #Limpa a tela\n",
    "\n",
    "eh_multiplo_dez = lambda x: (x % 10) == 0 #Divide x por 10, se sobrar 0, é par, se não, é impar (Sobra = valor depois da vírgula)\n",
    "numerodigitado = float(input('\\nDigite um número qualquer para saber se ele é múltiplo de 10!: \\n\\n')) #solicita um número qualquer, podendo ser float, como entrada\n",
    "resultado = eh_multiplo_dez(numerodigitado) #usa a função com o valor digitado\n",
    "print (resultado)"
   ]
  },
  {
   "cell_type": "markdown",
   "metadata": {},
   "source": [
    "7. Converta o programa de cálculo de fatorial da aula anterior para uma função. A função recebe como argumento o n e retorne o fatorial de n. "
   ]
  },
  {
   "cell_type": "code",
   "execution_count": null,
   "metadata": {},
   "outputs": [],
   "source": [
    "import os\n",
    "os.system('cls') #limpa a tela\n",
    "\n",
    "numerofornecido = int(input('\\nDigite um número qualquer para calcular seu fatorial:\\n\\n ')) \n",
    "\n",
    "def calcularFatorial(n): #função que recebe um número inteiro, caso esse número seja 0, retorna 1 pois 0! é 1; se não, entra em um looping For que para cada vez que passar pelo laço,\n",
    "                         #soma o fatorial em +1 e multipla esse valor pelo resultado anterior, até chegar no valor digitado pelo usuário \n",
    "    if n == 0:\n",
    "        return 1\n",
    "    fatorial = 1\n",
    "    for i in range(1, n+1):\n",
    "        fatorial =  fatorial * i\n",
    "    return fatorial\n",
    " \n",
    "numerofatorial = calcularFatorial(numerofornecido) #variável que guarda o resultado do cálculo do fatorial pela função\n",
    "print(f'\\nO número {numerofornecido} equivale à {numerofatorial} após ter seu fatorial calculado.\\n') #imprime o valor calculado\n",
    " "
   ]
  },
  {
   "cell_type": "markdown",
   "metadata": {},
   "source": [
    "8 e 9. Crie uma função primeiro_nome que recebe uma string nome completo e retorna somente o primeiro nome. Em seguida, use a função map para aplicar a função a uma lista de strings: nomes = ['João Carlos','Maria Eduarda', 'Ana Rute', 'Ana Clara']"
   ]
  },
  {
   "cell_type": "code",
   "execution_count": null,
   "metadata": {},
   "outputs": [],
   "source": [
    "from os import system as sy \n",
    "sy('cls') #Limpa a tela\n",
    "\n",
    "primeiro_nome = lambda string: string.split() #cria a função lambda utilizando split() para transformar o nomecompleto em uma lista; cada index é um nome/sobrenome\n",
    "nomecompleto = input('\\nDigite um nome completo, separando o nome e, cada sobrenome, apenas por espaços: \\n\\n')\n",
    "primeironome = primeiro_nome(nomecompleto) #usando a função com a String de entrada\n",
    "print(f'\\n{primeironome[0]}') #imprime o primeiro elemento da lista\n",
    "\n",
    "listadestrings = ['João Carlos', 'Maria Eduarda','Ana Rute', 'Ana Clara']\n",
    "listadenomes = map(primeiro_nome, listadestrings) #Aplica a função primeiro_nome a lista com nomes\n",
    "\n",
    "for nome in listadenomes: #para cada elemento das listas criadas por map, vai imprimir a string na primeira posição\n",
    "    print(nome[0])"
   ]
  },
  {
   "cell_type": "markdown",
   "metadata": {},
   "source": [
    "10. Escreva uma função que receba uma data no formato dd/mm/aaaa e retorne o dia da semana correspondente (monday, tuesday, etc.)"
   ]
  },
  {
   "cell_type": "code",
   "execution_count": null,
   "metadata": {},
   "outputs": [],
   "source": [
    "from os import system as sy \n",
    "sy('cls') #Limpa a tela\n",
    "from datetime import datetime\n",
    "\n",
    "dia = input('Digite o dia da data que deseja (2 digitos): \\n')\n",
    "mes = input('\\nDigite o mês (2 dígitos): \\n')\n",
    "ano = input('\\nDigite o ano (4 dígitos): \\n')\n",
    "\n",
    "datadigitada = dia+'/'+mes+'/'+ano #concatena as datas digitadas pelo usuário\n",
    "\n",
    "def formatardata(data): #função que recebe uma variável como parâmetro, converte em objeto de data utilizando a variável como base, depois formata para apresentar somente o dia da semana\n",
    "    data_obj = datetime.strptime(data, '%d/%m/%Y')\n",
    "    \n",
    "    datareformada = data_obj.strftime('%A')\n",
    "    \n",
    "    return datareformada\n",
    "    \n",
    "    \n",
    "print(f'\\n{formatardata(datadigitada)}')"
   ]
  }
 ],
 "metadata": {
  "language_info": {
   "name": "python"
  }
 },
 "nbformat": 4,
 "nbformat_minor": 2
}
